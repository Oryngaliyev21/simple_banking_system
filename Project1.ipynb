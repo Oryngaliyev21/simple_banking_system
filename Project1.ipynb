{
 "cells": [
  {
   "cell_type": "code",
   "execution_count": 5,
   "id": "9e747082-d743-4798-af11-a2c3bc403142",
   "metadata": {},
   "outputs": [
    {
     "name": "stdout",
     "output_type": "stream",
     "text": [
      "Welcome to the banking system!\n",
      "1. Create a new account\n",
      "2. Deposit funds\n",
      "3. Withdraw funds\n",
      "4. Check balance\n",
      "5. Exit\n"
     ]
    },
    {
     "name": "stdin",
     "output_type": "stream",
     "text": [
      "Please, select one of the above operations by entering the corresponding number: 1\n",
      "Please enter your name: ima\n",
      "Enter the amount of money:  300\n",
      "Enter the pin:  1234\n"
     ]
    },
    {
     "name": "stdout",
     "output_type": "stream",
     "text": [
      "Your account has been created\n",
      "Your account number:I811400\n",
      "1. Create a new account\n",
      "2. Deposit funds\n",
      "3. Withdraw funds\n",
      "4. Check balance\n",
      "5. Exit\n"
     ]
    },
    {
     "name": "stdin",
     "output_type": "stream",
     "text": [
      "Please, select one of the above operations by entering the corresponding number: 2\n"
     ]
    },
    {
     "name": "stdout",
     "output_type": "stream",
     "text": [
      "Enter your Account Id:\n"
     ]
    },
    {
     "name": "stdin",
     "output_type": "stream",
     "text": [
      " I811400\n"
     ]
    },
    {
     "name": "stdout",
     "output_type": "stream",
     "text": [
      "Enter your PIN:\n"
     ]
    },
    {
     "name": "stdin",
     "output_type": "stream",
     "text": [
      " 1234\n"
     ]
    },
    {
     "name": "stdout",
     "output_type": "stream",
     "text": [
      "You have successfully logged in!\n",
      "Your balance: 300.0\n"
     ]
    },
    {
     "name": "stdin",
     "output_type": "stream",
     "text": [
      "Please enter the amount of money you would like to refill: 600\n"
     ]
    },
    {
     "name": "stdout",
     "output_type": "stream",
     "text": [
      "Completed successfully!\n",
      "1. Create a new account\n",
      "2. Deposit funds\n",
      "3. Withdraw funds\n",
      "4. Check balance\n",
      "5. Exit\n"
     ]
    },
    {
     "name": "stdin",
     "output_type": "stream",
     "text": [
      "Please, select one of the above operations by entering the corresponding number: 3\n"
     ]
    },
    {
     "name": "stdout",
     "output_type": "stream",
     "text": [
      "Enter your Account Id:\n"
     ]
    },
    {
     "name": "stdin",
     "output_type": "stream",
     "text": [
      " I811400\n"
     ]
    },
    {
     "name": "stdout",
     "output_type": "stream",
     "text": [
      "Enter your PIN:\n"
     ]
    },
    {
     "name": "stdin",
     "output_type": "stream",
     "text": [
      " 1234\n"
     ]
    },
    {
     "name": "stdout",
     "output_type": "stream",
     "text": [
      "You have successfully logged in!\n",
      "Your balance: 900.0\n"
     ]
    },
    {
     "name": "stdin",
     "output_type": "stream",
     "text": [
      "Please enter the amount of money you would like to withdraw: 700\n"
     ]
    },
    {
     "name": "stdout",
     "output_type": "stream",
     "text": [
      "Completed successfully!\n",
      "1. Create a new account\n",
      "2. Deposit funds\n",
      "3. Withdraw funds\n",
      "4. Check balance\n",
      "5. Exit\n"
     ]
    },
    {
     "name": "stdin",
     "output_type": "stream",
     "text": [
      "Please, select one of the above operations by entering the corresponding number: 4\n"
     ]
    },
    {
     "name": "stdout",
     "output_type": "stream",
     "text": [
      "Enter your Account Id:\n"
     ]
    },
    {
     "name": "stdin",
     "output_type": "stream",
     "text": [
      " I811400\n"
     ]
    },
    {
     "name": "stdout",
     "output_type": "stream",
     "text": [
      "Enter your PIN:\n"
     ]
    },
    {
     "name": "stdin",
     "output_type": "stream",
     "text": [
      " 1234\n"
     ]
    },
    {
     "name": "stdout",
     "output_type": "stream",
     "text": [
      "You have successfully logged in!\n",
      "Your balance: 200.0\n",
      "None\n"
     ]
    }
   ],
   "source": [
    "import uuid\n",
    "    \n",
    "class BankingSystem:\n",
    "    def __init__(self):\n",
    "        self.name = []\n",
    "        self.account_id = []\n",
    "        self.balance = []\n",
    "        self.pin = []\n",
    "\n",
    "    def main_welcom_screen(self):\n",
    "        print('1. Create a new account')\n",
    "        print('2. Deposit funds')\n",
    "        print('3. Withdraw funds')\n",
    "        print('4. Check balance')\n",
    "        print('5. Exit')\n",
    "        main_menu_selection = input('Please, select one of the above operations by entering the corresponding number:')\n",
    "        if main_menu_selection == \"1\":\n",
    "            self.create_account()\n",
    "        elif main_menu_selection == \"2\":\n",
    "            self.deposit_funds()\n",
    "        elif main_menu_selection == \"3\":\n",
    "            self.withdraw_funds()\n",
    "        elif main_menu_selection == \"4\":\n",
    "            self.check_balance() \n",
    "        else:\n",
    "            print(\"Bye!\")\n",
    "\n",
    "    def create_account(self):\n",
    "        name = input('Please enter your name:')\n",
    "        account_id = f'{name[0].upper()}{str(uuid.uuid4().int)[:6]}'\n",
    "\n",
    "        while True:\n",
    "            try:\n",
    "                amount = float(input(\"Enter the amount of money: \"))\n",
    "                if amount >= 0:\n",
    "                    self.balance.append(amount)\n",
    "                    break\n",
    "                else:\n",
    "                    print(\"Error: Amount must be 0 or more. Please try again.\")\n",
    "            except:\n",
    "                print(\"Error: Please enter a valid numeric value.\")\n",
    "        while True:\n",
    "            try:\n",
    "                pin = input(\"Enter the pin: \")\n",
    "                if len(pin) >= 4:\n",
    "                    self.pin.append(pin)\n",
    "                    break\n",
    "                else:\n",
    "                    print(\"Error: Pin must be at least 4 digit. Please try again.\")\n",
    "            except:\n",
    "                print(\"Error: Please enter a valid numeric value.\")\n",
    "        self.name.append(name)\n",
    "        self.account_id.append(account_id)\n",
    "\n",
    "        print(\"Your account has been created\")\n",
    "        print(f\"Your account number:{account_id}\")\n",
    "        self.main_welcom_screen()\n",
    "\n",
    "    def deposit_funds(self):\n",
    "        print(\"Enter your Account Id:\")\n",
    "        entered_id_number = input()\n",
    "\n",
    "        print(\"Enter your PIN:\")\n",
    "        entered_pin_number = input()\n",
    "\n",
    "        index_id = self.account_id.index(entered_id_number)\n",
    "        index_pin = self.pin.index(entered_pin_number)\n",
    "        if entered_id_number in self.account_id and entered_pin_number in self.pin and index_id == index_pin:\n",
    "            print(\"You have successfully logged in!\")\n",
    "            print(f'Your balance: {self.balance[index_id]}')\n",
    "            while True:\n",
    "                try:\n",
    "                    refill_money = float(input('Please enter the amount of money you would like to refill:'))\n",
    "                    if refill_money >= 0:\n",
    "                        self.balance[index_id] += refill_money\n",
    "                        print('Completed successfully!')\n",
    "                        self.main_welcom_screen()\n",
    "                        break\n",
    "                    else:\n",
    "                        print(\"Error: Amount must be 0 or more. Please try again.\")\n",
    "                except:\n",
    "                    print(\"Error: Please enter a valid numeric value.\")\n",
    "        else:\n",
    "            print(\"Wrong Account ID or PIN!\")\n",
    "            self.main_welcom_screen()\n",
    "    \n",
    "    def withdraw_funds(self):\n",
    "        print(\"Enter your Account Id:\")\n",
    "        entered_id_number = input()\n",
    "\n",
    "        print(\"Enter your PIN:\")\n",
    "        entered_pin_number = input()\n",
    "\n",
    "        index_id = self.account_id.index(entered_id_number)\n",
    "        index_pin = self.pin.index(entered_pin_number)\n",
    "        if entered_id_number in self.account_id and entered_pin_number in self.pin and index_id == index_pin:\n",
    "            print(\"You have successfully logged in!\")\n",
    "            print(f'Your balance: {self.balance[index_id]}')\n",
    "            while True:\n",
    "                try:\n",
    "                    wd_money = float(input('Please enter the amount of money you would like to withdraw:'))\n",
    "                    if wd_money >= 0 and wd_money <= self.balance[index_id]:\n",
    "                        self.balance[index_id] -= wd_money\n",
    "                        print('Completed successfully!')\n",
    "                        self.main_welcom_screen()\n",
    "                        break\n",
    "                    else:\n",
    "                        print(\"Error: Your balance amount is less than withdraw money. Please try again.\")\n",
    "                except:\n",
    "                    print(\"Error: Please enter a valid numeric value.\")\n",
    "        else:\n",
    "            print(\"Wrong Account ID or PIN!\")\n",
    "            self.main_welcom_screen()\n",
    "\n",
    "    def check_balance(self):\n",
    "        print(\"Enter your Account Id:\")\n",
    "        entered_id_number = input()\n",
    "\n",
    "        print(\"Enter your PIN:\")\n",
    "        entered_pin_number = input()\n",
    "\n",
    "        index_id = self.account_id.index(entered_id_number)\n",
    "        index_pin = self.pin.index(entered_pin_number)\n",
    "        if entered_id_number in self.account_id and entered_pin_number in self.pin and index_id == index_pin:\n",
    "            print(\"You have successfully logged in!\")\n",
    "            print(f'Your balance: {self.balance[index_id]}')\n",
    "        else:\n",
    "            print(\"Wrong Account ID or PIN!\")\n",
    "        self.main_welcom_screen()\n",
    "\n",
    "print('Welcome to the banking system!')\n",
    "print(BankingSystem().main_welcom_screen())"
   ]
  }
 ],
 "metadata": {
  "kernelspec": {
   "display_name": "Python 3 (ipykernel)",
   "language": "python",
   "name": "python3"
  },
  "language_info": {
   "codemirror_mode": {
    "name": "ipython",
    "version": 3
   },
   "file_extension": ".py",
   "mimetype": "text/x-python",
   "name": "python",
   "nbconvert_exporter": "python",
   "pygments_lexer": "ipython3",
   "version": "3.10.2"
  }
 },
 "nbformat": 4,
 "nbformat_minor": 5
}
